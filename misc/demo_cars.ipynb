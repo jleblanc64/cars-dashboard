{
 "cells": [
  {
   "cell_type": "code",
   "execution_count": null,
   "id": "run-cell",
   "metadata": {},
   "outputs": [],
   "source": [
    "from python.notebook_cars import run\n",
    "run()"
   ]
  }
 ],
 "metadata": {
  "kernelspec": {
   "display_name": "Python 3 (ipykernel)",
   "language": "python",
   "name": "python3"
  },
  "language_info": {
   "name": "python",
   "version": "3.12.9",
   "file_extension": ".py",
   "mimetype": "text/x-python"
  }
 },
 "nbformat": 4,
 "nbformat_minor": 5
}
